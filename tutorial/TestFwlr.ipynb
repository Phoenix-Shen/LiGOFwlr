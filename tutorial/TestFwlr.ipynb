{
 "cells": [
  {
   "cell_type": "markdown",
   "metadata": {},
   "source": [
    "Installation"
   ]
  },
  {
   "cell_type": "code",
   "execution_count": 4,
   "metadata": {},
   "outputs": [
    {
     "name": "stdout",
     "output_type": "stream",
     "text": [
      "Looking in indexes: http://mirrors.aliyun.com/pypi/simple\n",
      "Requirement already satisfied: flwr in /root/miniconda3/envs/FedLe/lib/python3.9/site-packages (1.5.0)\n",
      "Requirement already satisfied: cryptography<42.0.0,>=41.0.2 in /root/miniconda3/envs/FedLe/lib/python3.9/site-packages (from flwr) (41.0.4)\n",
      "Requirement already satisfied: grpcio!=1.52.0,<2.0.0,>=1.48.2 in /root/miniconda3/envs/FedLe/lib/python3.9/site-packages (from flwr) (1.59.0)\n",
      "Requirement already satisfied: iterators<0.0.3,>=0.0.2 in /root/miniconda3/envs/FedLe/lib/python3.9/site-packages (from flwr) (0.0.2)\n",
      "Requirement already satisfied: numpy<2.0.0,>=1.21.0 in /root/miniconda3/envs/FedLe/lib/python3.9/site-packages (from flwr) (1.26.0)\n",
      "Requirement already satisfied: protobuf<4.0.0,>=3.19.0 in /root/miniconda3/envs/FedLe/lib/python3.9/site-packages (from flwr) (3.20.3)\n",
      "Requirement already satisfied: pycryptodome<4.0.0,>=3.18.0 in /root/miniconda3/envs/FedLe/lib/python3.9/site-packages (from flwr) (3.19.0)\n",
      "Requirement already satisfied: cffi>=1.12 in /root/miniconda3/envs/FedLe/lib/python3.9/site-packages (from cryptography<42.0.0,>=41.0.2->flwr) (1.16.0)\n",
      "Requirement already satisfied: pycparser in /root/miniconda3/envs/FedLe/lib/python3.9/site-packages (from cffi>=1.12->cryptography<42.0.0,>=41.0.2->flwr) (2.21)\n",
      "\u001b[33mWARNING: Running pip as the 'root' user can result in broken permissions and conflicting behaviour with the system package manager. It is recommended to use a virtual environment instead: https://pip.pypa.io/warnings/venv\u001b[0m\u001b[33m\n",
      "\u001b[0mNote: you may need to restart the kernel to use updated packages.\n",
      "Looking in indexes: http://mirrors.aliyun.com/pypi/simple\n",
      "Requirement already satisfied: torch in /root/miniconda3/envs/FedLe/lib/python3.9/site-packages (2.1.0)\n",
      "Requirement already satisfied: torchvision in /root/miniconda3/envs/FedLe/lib/python3.9/site-packages (0.16.0)\n",
      "Requirement already satisfied: filelock in /root/miniconda3/envs/FedLe/lib/python3.9/site-packages (from torch) (3.12.4)\n",
      "Requirement already satisfied: typing-extensions in /root/miniconda3/envs/FedLe/lib/python3.9/site-packages (from torch) (4.7.1)\n",
      "Requirement already satisfied: sympy in /root/miniconda3/envs/FedLe/lib/python3.9/site-packages (from torch) (1.12)\n",
      "Requirement already satisfied: networkx in /root/miniconda3/envs/FedLe/lib/python3.9/site-packages (from torch) (3.1)\n",
      "Requirement already satisfied: jinja2 in /root/miniconda3/envs/FedLe/lib/python3.9/site-packages (from torch) (3.1.2)\n",
      "Requirement already satisfied: fsspec in /root/miniconda3/envs/FedLe/lib/python3.9/site-packages (from torch) (2023.9.2)\n",
      "Requirement already satisfied: nvidia-cuda-nvrtc-cu12==12.1.105 in /root/miniconda3/envs/FedLe/lib/python3.9/site-packages (from torch) (12.1.105)\n",
      "Requirement already satisfied: nvidia-cuda-runtime-cu12==12.1.105 in /root/miniconda3/envs/FedLe/lib/python3.9/site-packages (from torch) (12.1.105)\n",
      "Requirement already satisfied: nvidia-cuda-cupti-cu12==12.1.105 in /root/miniconda3/envs/FedLe/lib/python3.9/site-packages (from torch) (12.1.105)\n",
      "Requirement already satisfied: nvidia-cudnn-cu12==8.9.2.26 in /root/miniconda3/envs/FedLe/lib/python3.9/site-packages (from torch) (8.9.2.26)\n",
      "Requirement already satisfied: nvidia-cublas-cu12==12.1.3.1 in /root/miniconda3/envs/FedLe/lib/python3.9/site-packages (from torch) (12.1.3.1)\n",
      "Requirement already satisfied: nvidia-cufft-cu12==11.0.2.54 in /root/miniconda3/envs/FedLe/lib/python3.9/site-packages (from torch) (11.0.2.54)\n",
      "Requirement already satisfied: nvidia-curand-cu12==10.3.2.106 in /root/miniconda3/envs/FedLe/lib/python3.9/site-packages (from torch) (10.3.2.106)\n",
      "Requirement already satisfied: nvidia-cusolver-cu12==11.4.5.107 in /root/miniconda3/envs/FedLe/lib/python3.9/site-packages (from torch) (11.4.5.107)\n",
      "Requirement already satisfied: nvidia-cusparse-cu12==12.1.0.106 in /root/miniconda3/envs/FedLe/lib/python3.9/site-packages (from torch) (12.1.0.106)\n",
      "Requirement already satisfied: nvidia-nccl-cu12==2.18.1 in /root/miniconda3/envs/FedLe/lib/python3.9/site-packages (from torch) (2.18.1)\n",
      "Requirement already satisfied: nvidia-nvtx-cu12==12.1.105 in /root/miniconda3/envs/FedLe/lib/python3.9/site-packages (from torch) (12.1.105)\n",
      "Requirement already satisfied: triton==2.1.0 in /root/miniconda3/envs/FedLe/lib/python3.9/site-packages (from torch) (2.1.0)\n",
      "Requirement already satisfied: nvidia-nvjitlink-cu12 in /root/miniconda3/envs/FedLe/lib/python3.9/site-packages (from nvidia-cusolver-cu12==11.4.5.107->torch) (12.2.140)\n",
      "Requirement already satisfied: numpy in /root/miniconda3/envs/FedLe/lib/python3.9/site-packages (from torchvision) (1.26.0)\n",
      "Requirement already satisfied: requests in /root/miniconda3/envs/FedLe/lib/python3.9/site-packages (from torchvision) (2.31.0)\n",
      "Requirement already satisfied: pillow!=8.3.*,>=5.3.0 in /root/miniconda3/envs/FedLe/lib/python3.9/site-packages (from torchvision) (10.0.1)\n",
      "Requirement already satisfied: MarkupSafe>=2.0 in /root/miniconda3/envs/FedLe/lib/python3.9/site-packages (from jinja2->torch) (2.1.3)\n",
      "Requirement already satisfied: charset-normalizer<4,>=2 in /root/miniconda3/envs/FedLe/lib/python3.9/site-packages (from requests->torchvision) (3.3.0)\n",
      "Requirement already satisfied: idna<4,>=2.5 in /root/miniconda3/envs/FedLe/lib/python3.9/site-packages (from requests->torchvision) (3.4)\n",
      "Requirement already satisfied: urllib3<3,>=1.21.1 in /root/miniconda3/envs/FedLe/lib/python3.9/site-packages (from requests->torchvision) (2.0.6)\n",
      "Requirement already satisfied: certifi>=2017.4.17 in /root/miniconda3/envs/FedLe/lib/python3.9/site-packages (from requests->torchvision) (2023.7.22)\n",
      "Requirement already satisfied: mpmath>=0.19 in /root/miniconda3/envs/FedLe/lib/python3.9/site-packages (from sympy->torch) (1.3.0)\n",
      "\u001b[33mWARNING: Running pip as the 'root' user can result in broken permissions and conflicting behaviour with the system package manager. It is recommended to use a virtual environment instead: https://pip.pypa.io/warnings/venv\u001b[0m\u001b[33m\n",
      "\u001b[0mNote: you may need to restart the kernel to use updated packages.\n"
     ]
    }
   ],
   "source": [
    "%pip install flwr\n",
    "%pip install torch torchvision"
   ]
  },
  {
   "cell_type": "markdown",
   "metadata": {},
   "source": [
    "Define the client"
   ]
  },
  {
   "cell_type": "code",
   "execution_count": 5,
   "metadata": {},
   "outputs": [],
   "source": [
    "from collections import OrderedDict\n",
    "from typing import List, Tuple\n",
    "\n",
    "import matplotlib.pyplot as plt\n",
    "import numpy as np\n",
    "import torch\n",
    "import torch.nn as nn\n",
    "import torch.nn.functional as F\n",
    "import torchvision\n",
    "import torchvision.transforms as transforms\n",
    "from torch.utils.data import DataLoader, random_split\n",
    "from torchvision.datasets import CIFAR10\n",
    "import flwr as fl\n",
    "from flwr.common import Metrics"
   ]
  },
  {
   "cell_type": "code",
   "execution_count": 6,
   "metadata": {},
   "outputs": [],
   "source": [
    "DEVICE = torch.device(\"cuda:0\" if torch.cuda.is_available() else \"cpu\")"
   ]
  },
  {
   "cell_type": "code",
   "execution_count": 9,
   "metadata": {},
   "outputs": [
    {
     "name": "stdout",
     "output_type": "stream",
     "text": [
      "Files already downloaded and verified\n",
      "Files already downloaded and verified\n"
     ]
    }
   ],
   "source": [
    "BATCH_SIZE = 32\n",
    "NUM_CLIENTS = 10\n",
    "\n",
    "def load_datasets():\n",
    "    # Download and transform CIFAR-10 (train and test)\n",
    "    transform = transforms.Compose(\n",
    "        [transforms.ToTensor(), transforms.Normalize((0.5, 0.5, 0.5), (0.5, 0.5, 0.5))]\n",
    "    )\n",
    "    trainset = CIFAR10(\"./dataset\", train=True, download=True, transform=transform)\n",
    "    testset = CIFAR10(\"./dataset\", train=False, download=True, transform=transform)\n",
    "\n",
    "    # Split training set into 10 partitions to simulate the individual dataset\n",
    "    partition_size = len(trainset) // NUM_CLIENTS\n",
    "    lengths = [partition_size] * NUM_CLIENTS\n",
    "    datasets = random_split(trainset, lengths, torch.Generator().manual_seed(42))\n",
    "\n",
    "    # Split each partition into train/val and create DataLoader\n",
    "    trainloaders = []\n",
    "    valloaders = []\n",
    "    for ds in datasets:\n",
    "        len_val = len(ds) // 10  # 10 % validation set\n",
    "        len_train = len(ds) - len_val\n",
    "        lengths = [len_train, len_val]\n",
    "        ds_train, ds_val = random_split(ds, lengths, torch.Generator().manual_seed(42))\n",
    "        trainloaders.append(DataLoader(ds_train, batch_size=BATCH_SIZE, shuffle=True))\n",
    "        valloaders.append(DataLoader(ds_val, batch_size=BATCH_SIZE))\n",
    "    testloader = DataLoader(testset, batch_size=BATCH_SIZE)\n",
    "    return trainloaders, valloaders, testloader\n",
    "\n",
    "\n",
    "trainloaders, valloaders, testloader = load_datasets()"
   ]
  },
  {
   "cell_type": "code",
   "execution_count": 10,
   "metadata": {},
   "outputs": [],
   "source": [
    "def train(net, trainloader, epochs: int, verbose=False):\n",
    "    \"\"\"Train the network on the training set.\"\"\"\n",
    "    criterion = torch.nn.CrossEntropyLoss()\n",
    "    optimizer = torch.optim.Adam(net.parameters())\n",
    "    net.train()\n",
    "    for epoch in range(epochs):\n",
    "        correct, total, epoch_loss = 0, 0, 0.0\n",
    "        for images, labels in trainloader:\n",
    "            images, labels = images.to(DEVICE), labels.to(DEVICE)\n",
    "            optimizer.zero_grad()\n",
    "            outputs = net(images)\n",
    "            loss = criterion(outputs, labels)\n",
    "            loss.backward()\n",
    "            optimizer.step()\n",
    "            # Metrics\n",
    "            epoch_loss += loss\n",
    "            total += labels.size(0)\n",
    "            correct += (torch.max(outputs.data, 1)[1] == labels).sum().item()\n",
    "        epoch_loss /= len(trainloader.dataset)\n",
    "        epoch_acc = correct / total\n",
    "        if verbose:\n",
    "            print(f\"Epoch {epoch+1}: train loss {epoch_loss}, accuracy {epoch_acc}\")\n",
    "\n",
    "\n",
    "def test(net, testloader):\n",
    "    \"\"\"Evaluate the network on the entire test set.\"\"\"\n",
    "    criterion = torch.nn.CrossEntropyLoss()\n",
    "    correct, total, loss = 0, 0, 0.0\n",
    "    net.eval()\n",
    "    with torch.no_grad():\n",
    "        for images, labels in testloader:\n",
    "            images, labels = images.to(DEVICE), labels.to(DEVICE)\n",
    "            outputs = net(images)\n",
    "            loss += criterion(outputs, labels).item()\n",
    "            _, predicted = torch.max(outputs.data, 1)\n",
    "            total += labels.size(0)\n",
    "            correct += (predicted == labels).sum().item()\n",
    "    loss /= len(testloader.dataset)\n",
    "    accuracy = correct / total\n",
    "    return loss, accuracy"
   ]
  },
  {
   "cell_type": "code",
   "execution_count": 11,
   "metadata": {},
   "outputs": [],
   "source": [
    "class Net(nn.Module):\n",
    "    def __init__(self) -> None:\n",
    "        super(Net, self).__init__()\n",
    "        self.conv1 = nn.Conv2d(3, 6, 5)\n",
    "        self.pool = nn.MaxPool2d(2, 2)\n",
    "        self.conv2 = nn.Conv2d(6, 16, 5)\n",
    "        self.fc1 = nn.Linear(16 * 5 * 5, 120)\n",
    "        self.fc2 = nn.Linear(120, 84)\n",
    "        self.fc3 = nn.Linear(84, 10)\n",
    "\n",
    "    def forward(self, x: torch.Tensor) -> torch.Tensor:\n",
    "        x = self.pool(F.relu(self.conv1(x)))\n",
    "        x = self.pool(F.relu(self.conv2(x)))\n",
    "        x = x.view(-1, 16 * 5 * 5)\n",
    "        x = F.relu(self.fc1(x))\n",
    "        x = F.relu(self.fc2(x))\n",
    "        x = self.fc3(x)\n",
    "        return x"
   ]
  },
  {
   "cell_type": "code",
   "execution_count": 12,
   "metadata": {},
   "outputs": [],
   "source": [
    "def get_parameters(net) -> List[np.ndarray]:\n",
    "    return [val.cpu().numpy() for _, val in net.state_dict().items()]\n",
    "\n",
    "\n",
    "def set_parameters(net, parameters: List[np.ndarray]):\n",
    "    params_dict = zip(net.state_dict().keys(), parameters)\n",
    "    state_dict = OrderedDict({k: torch.Tensor(v) for k, v in params_dict})\n",
    "    net.load_state_dict(state_dict, strict=True)"
   ]
  },
  {
   "cell_type": "code",
   "execution_count": 13,
   "metadata": {},
   "outputs": [],
   "source": [
    "class FlowerClient(fl.client.NumPyClient):\n",
    "    def __init__(self, net, trainloader, valloader):\n",
    "        self.net = net\n",
    "        self.trainloader = trainloader\n",
    "        self.valloader = valloader\n",
    "\n",
    "    def get_parameters(self, config):\n",
    "        return get_parameters(self.net)\n",
    "\n",
    "    def fit(self, parameters, config):\n",
    "        set_parameters(self.net, parameters)\n",
    "        train(self.net, self.trainloader, epochs=1)\n",
    "        return get_parameters(self.net), len(self.trainloader), {}\n",
    "\n",
    "    def evaluate(self, parameters, config):\n",
    "        set_parameters(self.net, parameters)\n",
    "        loss, accuracy = test(self.net, self.valloader)\n",
    "        return float(loss), len(self.valloader), {\"accuracy\": float(accuracy)}"
   ]
  },
  {
   "cell_type": "code",
   "execution_count": 14,
   "metadata": {},
   "outputs": [],
   "source": [
    "def client_fn(cid: str) -> FlowerClient:\n",
    "    \"\"\"Create a Flower client representing a single organization.\"\"\"\n",
    "\n",
    "    # Load model\n",
    "    net = Net().to(DEVICE)\n",
    "\n",
    "    # Load data (CIFAR-10)\n",
    "    # Note: each client gets a different trainloader/valloader, so each client\n",
    "    # will train and evaluate on their own unique data\n",
    "    trainloader = trainloaders[int(cid)]\n",
    "    valloader = valloaders[int(cid)]\n",
    "\n",
    "    # Create a  single Flower client representing a single organization\n",
    "    return FlowerClient(net, trainloader, valloader)"
   ]
  },
  {
   "cell_type": "code",
   "execution_count": 16,
   "metadata": {},
   "outputs": [
    {
     "name": "stderr",
     "output_type": "stream",
     "text": [
      "INFO flwr 2023-10-19 16:26:56,144 | app.py:175 | Starting Flower simulation, config: ServerConfig(num_rounds=5, round_timeout=None)\n",
      "2023-10-19 16:27:00,764\tWARNING utils.py:585 -- Detecting docker specified CPUs. In previous versions of Ray, CPU detection in containers was incorrect. Please ensure that Ray has enough CPUs allocated. As a temporary workaround to revert to the prior behavior, set `RAY_USE_MULTIPROCESSING_CPU_COUNT=1` as an env var before starting Ray. Set the env var: `RAY_DISABLE_DOCKER_CPU_WARNING=1` to mute this warning.\n",
      "2023-10-19 16:27:00,913\tINFO worker.py:1621 -- Started a local Ray instance.\n",
      "INFO flwr 2023-10-19 16:27:07,283 | app.py:210 | Flower VCE: Ray initialized with resources: {'GPU': 1.0, 'accelerator_type:G': 1.0, 'node:__internal_head__': 1.0, 'object_store_memory': 22486912204.0, 'memory': 44973824411.0, 'CPU': 12.0, 'node:172.17.0.10': 1.0}\n",
      "INFO flwr 2023-10-19 16:27:07,284 | app.py:224 | Flower VCE: Resources for each Virtual Client: {'num_gpus': 1, 'num_cpus': 12}\n",
      "INFO flwr 2023-10-19 16:27:07,314 | app.py:270 | Flower VCE: Creating VirtualClientEngineActorPool with 1 actors\n",
      "INFO flwr 2023-10-19 16:27:07,316 | server.py:89 | Initializing global parameters\n",
      "INFO flwr 2023-10-19 16:27:07,317 | server.py:276 | Requesting initial parameters from one random client\n",
      "INFO flwr 2023-10-19 16:27:11,551 | server.py:280 | Received initial parameters from one random client\n",
      "INFO flwr 2023-10-19 16:27:11,553 | server.py:91 | Evaluating initial parameters\n",
      "INFO flwr 2023-10-19 16:27:11,555 | server.py:104 | FL starting\n",
      "DEBUG flwr 2023-10-19 16:27:11,556 | server.py:222 | fit_round 1: strategy sampled 10 clients (out of 10)\n",
      "DEBUG flwr 2023-10-19 16:27:36,469 | server.py:236 | fit_round 1 received 10 results and 0 failures\n",
      "WARNING flwr 2023-10-19 16:27:36,505 | fedavg.py:242 | No fit_metrics_aggregation_fn provided\n",
      "DEBUG flwr 2023-10-19 16:27:36,506 | server.py:173 | evaluate_round 1: strategy sampled 5 clients (out of 10)\n",
      "DEBUG flwr 2023-10-19 16:27:44,091 | server.py:187 | evaluate_round 1 received 5 results and 0 failures\n",
      "WARNING flwr 2023-10-19 16:27:44,094 | fedavg.py:273 | No evaluate_metrics_aggregation_fn provided\n",
      "DEBUG flwr 2023-10-19 16:27:44,096 | server.py:222 | fit_round 2: strategy sampled 10 clients (out of 10)\n",
      "DEBUG flwr 2023-10-19 16:28:12,448 | server.py:236 | fit_round 2 received 10 results and 0 failures\n",
      "DEBUG flwr 2023-10-19 16:28:12,484 | server.py:173 | evaluate_round 2: strategy sampled 5 clients (out of 10)\n",
      "DEBUG flwr 2023-10-19 16:28:20,125 | server.py:187 | evaluate_round 2 received 5 results and 0 failures\n",
      "DEBUG flwr 2023-10-19 16:28:20,129 | server.py:222 | fit_round 3: strategy sampled 10 clients (out of 10)\n",
      "DEBUG flwr 2023-10-19 16:28:48,161 | server.py:236 | fit_round 3 received 10 results and 0 failures\n",
      "DEBUG flwr 2023-10-19 16:28:48,179 | server.py:173 | evaluate_round 3: strategy sampled 5 clients (out of 10)\n",
      "DEBUG flwr 2023-10-19 16:28:55,773 | server.py:187 | evaluate_round 3 received 5 results and 0 failures\n",
      "DEBUG flwr 2023-10-19 16:28:55,777 | server.py:222 | fit_round 4: strategy sampled 10 clients (out of 10)\n",
      "DEBUG flwr 2023-10-19 16:29:23,063 | server.py:236 | fit_round 4 received 10 results and 0 failures\n",
      "DEBUG flwr 2023-10-19 16:29:23,084 | server.py:173 | evaluate_round 4: strategy sampled 5 clients (out of 10)\n",
      "DEBUG flwr 2023-10-19 16:29:30,555 | server.py:187 | evaluate_round 4 received 5 results and 0 failures\n",
      "DEBUG flwr 2023-10-19 16:29:30,558 | server.py:222 | fit_round 5: strategy sampled 10 clients (out of 10)\n",
      "DEBUG flwr 2023-10-19 16:29:57,539 | server.py:236 | fit_round 5 received 10 results and 0 failures\n",
      "DEBUG flwr 2023-10-19 16:29:57,564 | server.py:173 | evaluate_round 5: strategy sampled 5 clients (out of 10)\n",
      "DEBUG flwr 2023-10-19 16:30:04,992 | server.py:187 | evaluate_round 5 received 5 results and 0 failures\n",
      "INFO flwr 2023-10-19 16:30:04,996 | server.py:153 | FL finished in 173.44009707821533\n",
      "INFO flwr 2023-10-19 16:30:04,999 | app.py:225 | app_fit: losses_distributed [(1, 0.06392695317268371), (2, 0.05571991477012635), (3, 0.05196512832641601), (4, 0.050416590833663934), (5, 0.04862405686378479)]\n",
      "INFO flwr 2023-10-19 16:30:05,001 | app.py:226 | app_fit: metrics_distributed_fit {}\n",
      "INFO flwr 2023-10-19 16:30:05,002 | app.py:227 | app_fit: metrics_distributed {}\n",
      "INFO flwr 2023-10-19 16:30:05,003 | app.py:228 | app_fit: losses_centralized []\n",
      "INFO flwr 2023-10-19 16:30:05,004 | app.py:229 | app_fit: metrics_centralized {}\n"
     ]
    },
    {
     "data": {
      "text/plain": [
       "History (loss, distributed):\n",
       "\tround 1: 0.06392695317268371\n",
       "\tround 2: 0.05571991477012635\n",
       "\tround 3: 0.05196512832641601\n",
       "\tround 4: 0.050416590833663934\n",
       "\tround 5: 0.04862405686378479"
      ]
     },
     "execution_count": 16,
     "metadata": {},
     "output_type": "execute_result"
    }
   ],
   "source": [
    "# Create FedAvg strategy\n",
    "strategy = fl.server.strategy.FedAvg(\n",
    "    fraction_fit=1.0,  # Sample 100% of available clients for training\n",
    "    fraction_evaluate=0.5,  # Sample 50% of available clients for evaluation\n",
    "    min_fit_clients=10,  # Never sample less than 10 clients for training\n",
    "    min_evaluate_clients=5,  # Never sample less than 5 clients for evaluation\n",
    "    min_available_clients=10,  # Wait until all 10 clients are available\n",
    ")\n",
    "\n",
    "# Specify client resources if you need GPU (defaults to 1 CPU and 0 GPU)\n",
    "client_resources = None\n",
    "if DEVICE.type == \"cuda\":\n",
    "    client_resources = {\"num_gpus\": 1,\"num_cpus\":12}\n",
    "\n",
    "# Start simulation\n",
    "fl.simulation.start_simulation(\n",
    "    client_fn=client_fn,\n",
    "    num_clients=NUM_CLIENTS,\n",
    "    config=fl.server.ServerConfig(num_rounds=5),\n",
    "    strategy=strategy,\n",
    "    client_resources=client_resources,\n",
    ")"
   ]
  },
  {
   "cell_type": "code",
   "execution_count": 17,
   "metadata": {},
   "outputs": [],
   "source": [
    "def weighted_average(metrics: List[Tuple[int, Metrics]]) -> Metrics:\n",
    "    # Multiply accuracy of each client by number of examples used\n",
    "    accuracies = [num_examples * m[\"accuracy\"] for num_examples, m in metrics]\n",
    "    examples = [num_examples for num_examples, _ in metrics]\n",
    "\n",
    "    # Aggregate and return custom metric (weighted average)\n",
    "    return {\"accuracy\": sum(accuracies) / sum(examples)}"
   ]
  },
  {
   "cell_type": "code",
   "execution_count": 18,
   "metadata": {},
   "outputs": [
    {
     "name": "stderr",
     "output_type": "stream",
     "text": [
      "INFO flwr 2023-10-19 16:30:05,169 | app.py:175 | Starting Flower simulation, config: ServerConfig(num_rounds=5, round_timeout=None)\n",
      "2023-10-19 16:30:10,347\tWARNING utils.py:585 -- Detecting docker specified CPUs. In previous versions of Ray, CPU detection in containers was incorrect. Please ensure that Ray has enough CPUs allocated. As a temporary workaround to revert to the prior behavior, set `RAY_USE_MULTIPROCESSING_CPU_COUNT=1` as an env var before starting Ray. Set the env var: `RAY_DISABLE_DOCKER_CPU_WARNING=1` to mute this warning.\n",
      "2023-10-19 16:30:10,498\tINFO worker.py:1621 -- Started a local Ray instance.\n",
      "INFO flwr 2023-10-19 16:30:16,574 | app.py:210 | Flower VCE: Ray initialized with resources: {'node:172.17.0.10': 1.0, 'CPU': 12.0, 'memory': 45003173070.0, 'node:__internal_head__': 1.0, 'object_store_memory': 22501586534.0, 'accelerator_type:G': 1.0, 'GPU': 1.0}\n",
      "INFO flwr 2023-10-19 16:30:16,575 | app.py:224 | Flower VCE: Resources for each Virtual Client: {'num_gpus': 1, 'num_cpus': 12}\n",
      "INFO flwr 2023-10-19 16:30:16,587 | app.py:270 | Flower VCE: Creating VirtualClientEngineActorPool with 1 actors\n",
      "INFO flwr 2023-10-19 16:30:16,588 | server.py:89 | Initializing global parameters\n",
      "INFO flwr 2023-10-19 16:30:16,588 | server.py:276 | Requesting initial parameters from one random client\n",
      "INFO flwr 2023-10-19 16:30:20,708 | server.py:280 | Received initial parameters from one random client\n",
      "INFO flwr 2023-10-19 16:30:20,710 | server.py:91 | Evaluating initial parameters\n",
      "INFO flwr 2023-10-19 16:30:20,712 | server.py:104 | FL starting\n",
      "DEBUG flwr 2023-10-19 16:30:20,713 | server.py:222 | fit_round 1: strategy sampled 10 clients (out of 10)\n",
      "DEBUG flwr 2023-10-19 16:30:45,353 | server.py:236 | fit_round 1 received 10 results and 0 failures\n",
      "WARNING flwr 2023-10-19 16:30:45,387 | fedavg.py:242 | No fit_metrics_aggregation_fn provided\n",
      "DEBUG flwr 2023-10-19 16:30:45,389 | server.py:173 | evaluate_round 1: strategy sampled 5 clients (out of 10)\n",
      "DEBUG flwr 2023-10-19 16:30:52,609 | server.py:187 | evaluate_round 1 received 5 results and 0 failures\n",
      "DEBUG flwr 2023-10-19 16:30:52,613 | server.py:222 | fit_round 2: strategy sampled 10 clients (out of 10)\n",
      "DEBUG flwr 2023-10-19 16:31:20,271 | server.py:236 | fit_round 2 received 10 results and 0 failures\n",
      "DEBUG flwr 2023-10-19 16:31:20,304 | server.py:173 | evaluate_round 2: strategy sampled 5 clients (out of 10)\n",
      "DEBUG flwr 2023-10-19 16:31:27,215 | server.py:187 | evaluate_round 2 received 5 results and 0 failures\n",
      "DEBUG flwr 2023-10-19 16:31:27,219 | server.py:222 | fit_round 3: strategy sampled 10 clients (out of 10)\n",
      "DEBUG flwr 2023-10-19 16:31:54,680 | server.py:236 | fit_round 3 received 10 results and 0 failures\n",
      "DEBUG flwr 2023-10-19 16:31:54,714 | server.py:173 | evaluate_round 3: strategy sampled 5 clients (out of 10)\n",
      "DEBUG flwr 2023-10-19 16:32:02,061 | server.py:187 | evaluate_round 3 received 5 results and 0 failures\n",
      "DEBUG flwr 2023-10-19 16:32:02,065 | server.py:222 | fit_round 4: strategy sampled 10 clients (out of 10)\n",
      "DEBUG flwr 2023-10-19 16:32:28,709 | server.py:236 | fit_round 4 received 10 results and 0 failures\n",
      "DEBUG flwr 2023-10-19 16:32:28,743 | server.py:173 | evaluate_round 4: strategy sampled 5 clients (out of 10)\n",
      "DEBUG flwr 2023-10-19 16:32:36,060 | server.py:187 | evaluate_round 4 received 5 results and 0 failures\n",
      "DEBUG flwr 2023-10-19 16:32:36,063 | server.py:222 | fit_round 5: strategy sampled 10 clients (out of 10)\n",
      "DEBUG flwr 2023-10-19 16:33:03,012 | server.py:236 | fit_round 5 received 10 results and 0 failures\n",
      "DEBUG flwr 2023-10-19 16:33:03,046 | server.py:173 | evaluate_round 5: strategy sampled 5 clients (out of 10)\n",
      "DEBUG flwr 2023-10-19 16:33:10,339 | server.py:187 | evaluate_round 5 received 5 results and 0 failures\n",
      "INFO flwr 2023-10-19 16:33:10,341 | server.py:153 | FL finished in 169.62793445168063\n",
      "INFO flwr 2023-10-19 16:33:10,342 | app.py:225 | app_fit: losses_distributed [(1, 0.059765741443634036), (2, 0.053534630966186526), (3, 0.05187041425704956), (4, 0.04965928268432617), (5, 0.04905700778961182)]\n",
      "INFO flwr 2023-10-19 16:33:10,343 | app.py:226 | app_fit: metrics_distributed_fit {}\n",
      "INFO flwr 2023-10-19 16:33:10,343 | app.py:227 | app_fit: metrics_distributed {'accuracy': [(1, 0.32880000000000004), (2, 0.37960000000000005), (3, 0.40840000000000004), (4, 0.426), (5, 0.4404)]}\n",
      "INFO flwr 2023-10-19 16:33:10,344 | app.py:228 | app_fit: losses_centralized []\n",
      "INFO flwr 2023-10-19 16:33:10,344 | app.py:229 | app_fit: metrics_centralized {}\n"
     ]
    },
    {
     "data": {
      "text/plain": [
       "History (loss, distributed):\n",
       "\tround 1: 0.059765741443634036\n",
       "\tround 2: 0.053534630966186526\n",
       "\tround 3: 0.05187041425704956\n",
       "\tround 4: 0.04965928268432617\n",
       "\tround 5: 0.04905700778961182\n",
       "History (metrics, distributed, evaluate):\n",
       "{'accuracy': [(1, 0.32880000000000004), (2, 0.37960000000000005), (3, 0.40840000000000004), (4, 0.426), (5, 0.4404)]}"
      ]
     },
     "execution_count": 18,
     "metadata": {},
     "output_type": "execute_result"
    }
   ],
   "source": [
    "# Create FedAvg strategy\n",
    "strategy = fl.server.strategy.FedAvg(\n",
    "    fraction_fit=1.0,\n",
    "    fraction_evaluate=0.5,\n",
    "    min_fit_clients=10,\n",
    "    min_evaluate_clients=5,\n",
    "    min_available_clients=10,\n",
    "    evaluate_metrics_aggregation_fn=weighted_average,  # <-- pass the metric aggregation function\n",
    ")\n",
    "\n",
    "# Start simulation\n",
    "fl.simulation.start_simulation(\n",
    "    client_fn=client_fn,\n",
    "    num_clients=NUM_CLIENTS,\n",
    "    config=fl.server.ServerConfig(num_rounds=5),\n",
    "    strategy=strategy,\n",
    "    client_resources=client_resources,\n",
    ")"
   ]
  },
  {
   "cell_type": "markdown",
   "metadata": {},
   "source": []
  }
 ],
 "metadata": {
  "kernelspec": {
   "display_name": "FedLe",
   "language": "python",
   "name": "python3"
  },
  "language_info": {
   "codemirror_mode": {
    "name": "ipython",
    "version": 3
   },
   "file_extension": ".py",
   "mimetype": "text/x-python",
   "name": "python",
   "nbconvert_exporter": "python",
   "pygments_lexer": "ipython3",
   "version": "3.9.18"
  }
 },
 "nbformat": 4,
 "nbformat_minor": 2
}
